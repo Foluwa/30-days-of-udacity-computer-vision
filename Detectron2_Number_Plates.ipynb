{
  "nbformat": 4,
  "nbformat_minor": 0,
  "metadata": {
    "colab": {
      "name": "Detectron2 - Number Plates.ipynb",
      "provenance": [],
      "collapsed_sections": [],
      "include_colab_link": true
    },
    "kernelspec": {
      "name": "python3",
      "display_name": "Python 3"
    },
    "accelerator": "GPU"
  },
  "cells": [
    {
      "cell_type": "markdown",
      "metadata": {
        "id": "view-in-github",
        "colab_type": "text"
      },
      "source": [
        "<a href=\"https://colab.research.google.com/github/Foluwa/30-days-of-udacity-computer-vision/blob/master/Detectron2_Number_Plates.ipynb\" target=\"_parent\"><img src=\"https://colab.research.google.com/assets/colab-badge.svg\" alt=\"Open In Colab\"/></a>"
      ]
    },
    {
      "cell_type": "markdown",
      "metadata": {
        "id": "zNUtfxf5EIeG",
        "colab_type": "text"
      },
      "source": [
        "# Training and Inference with Detectron 2 Framework for Number Plates Detection\n",
        "<img src=\"https://dl.fbaipublicfiles.com/detectron2/Detectron2-Logo-Horz.png\" width=\"500\">"
      ]
    },
    {
      "cell_type": "markdown",
      "metadata": {
        "id": "qgQKxdynEOKr",
        "colab_type": "text"
      },
      "source": [
        "## Access your drive"
      ]
    },
    {
      "cell_type": "code",
      "metadata": {
        "id": "ee69nkuXERYL",
        "colab_type": "code",
        "colab": {}
      },
      "source": [
        "from google.colab import drive\n",
        "drive.mount('/content/drive')"
      ],
      "execution_count": 0,
      "outputs": []
    },
    {
      "cell_type": "code",
      "metadata": {
        "id": "0W3besnvEUoW",
        "colab_type": "code",
        "colab": {}
      },
      "source": [
        "cd drive/My\\ Drive"
      ],
      "execution_count": 0,
      "outputs": []
    },
    {
      "cell_type": "code",
      "metadata": {
        "id": "naMPK_qdEWEh",
        "colab_type": "code",
        "colab": {}
      },
      "source": [
        "mkdir NumberPlates"
      ],
      "execution_count": 0,
      "outputs": []
    },
    {
      "cell_type": "code",
      "metadata": {
        "id": "Mhyjgs0bEYoi",
        "colab_type": "code",
        "colab": {}
      },
      "source": [
        "cd NumberPlates"
      ],
      "execution_count": 0,
      "outputs": []
    },
    {
      "cell_type": "markdown",
      "metadata": {
        "id": "LlNL7P72EZ8i",
        "colab_type": "text"
      },
      "source": [
        "## Install and build required dependencies\n"
      ]
    },
    {
      "cell_type": "code",
      "metadata": {
        "id": "YUx1Lp6_Ef8H",
        "colab_type": "code",
        "colab": {}
      },
      "source": [
        "!pip install -U torch torchvision cython\n",
        "!pip install -U 'git+https://github.com/facebookresearch/fvcore.git' 'git+https://github.com/cocodataset/cocoapi.git#subdirectory=PythonAPI'\n",
        "!git clone https://github.com/facebookresearch/detectron2 detectron2_repo\n",
        "!pip install -e detectron2_repo"
      ],
      "execution_count": 0,
      "outputs": []
    },
    {
      "cell_type": "markdown",
      "metadata": {
        "id": "sSDB9xX9EvaE",
        "colab_type": "text"
      },
      "source": [
        "### And restart the Runtime"
      ]
    },
    {
      "cell_type": "markdown",
      "metadata": {
        "id": "TBreUjh3Ey5S",
        "colab_type": "text"
      },
      "source": [
        "## Clone into Gdown.pl and download the dataset"
      ]
    },
    {
      "cell_type": "code",
      "metadata": {
        "id": "S4At-wMTEx2X",
        "colab_type": "code",
        "colab": {}
      },
      "source": [
        "!git clone https://github.com/circulosmeos/gdown.pl"
      ],
      "execution_count": 0,
      "outputs": []
    },
    {
      "cell_type": "code",
      "metadata": {
        "id": "DqOxzKkOE90A",
        "colab_type": "code",
        "colab": {}
      },
      "source": [
        "cd gdown.pl"
      ],
      "execution_count": 0,
      "outputs": []
    },
    {
      "cell_type": "code",
      "metadata": {
        "id": "iuO5Pg8IE_Ru",
        "colab_type": "code",
        "colab": {}
      },
      "source": [
        "!sudo chmod 777 gdown.pl"
      ],
      "execution_count": 0,
      "outputs": []
    },
    {
      "cell_type": "code",
      "metadata": {
        "id": "Q-ey3UJjFAkl",
        "colab_type": "code",
        "colab": {}
      },
      "source": [
        "!./gdown.pl https://drive.google.com/file/d/1u1VNPrDPP6AePoiYESldTBepFaamrMbY plates_coco.zip\n",
        "!mv plates_coco.zip ../"
      ],
      "execution_count": 0,
      "outputs": []
    },
    {
      "cell_type": "code",
      "metadata": {
        "id": "IWJ2km5HFOho",
        "colab_type": "code",
        "colab": {}
      },
      "source": [
        "!cd ../\n",
        "!unzip -q plates_coco.zip"
      ],
      "execution_count": 0,
      "outputs": []
    },
    {
      "cell_type": "markdown",
      "metadata": {
        "id": "8zejUlV2FnGH",
        "colab_type": "text"
      },
      "source": [
        "## Get pretrained model in case you want to do inference straight away."
      ]
    },
    {
      "cell_type": "code",
      "metadata": {
        "id": "Eh0zl7vCFsD8",
        "colab_type": "code",
        "colab": {}
      },
      "source": [
        "!mkdir output\n",
        "!cd gdown.pl\n",
        "!./gdown.pl https://drive.google.com/file/d/1hMCczENeCLd-jq7KGW9ak8B-QkWVUoXg ../output/model_final.pth"
      ],
      "execution_count": 0,
      "outputs": []
    },
    {
      "cell_type": "markdown",
      "metadata": {
        "id": "mOE2dRQdFRhb",
        "colab_type": "text"
      },
      "source": [
        "## Training"
      ]
    },
    {
      "cell_type": "code",
      "metadata": {
        "id": "O7jCsOS8FY_1",
        "colab_type": "code",
        "colab": {}
      },
      "source": [
        "# basic libraries\n",
        "import matplotlib.pyplot as plt\n",
        "import numpy as np\n",
        "import cv2\n",
        "from google.colab.patches import cv2_imshow\n",
        "\n",
        "# detectron2 utilities\n",
        "import detectron2\n",
        "from detectron2.utils.logger import setup_logger\n",
        "setup_logger()\n",
        "from detectron2.engine import DefaultPredictor\n",
        "from detectron2.config import get_cfg\n",
        "from detectron2.utils.visualizer import Visualizer\n",
        "from detectron2.data import MetadataCatalog, DatasetCatalog\n",
        "\n",
        "from detectron2.data.datasets import register_coco_instances\n",
        "\n",
        "# register dataset\n",
        "register_coco_instances(\"plates\", {}, \"./plates_coco/annotations.json\", \"./plates_coco/\")\n",
        "\n",
        "plates_metadata = MetadataCatalog.get(\"plates\")\n",
        "dataset_dicts = DatasetCatalog.get(\"plates\")\n",
        "\n",
        "from detectron2.engine import DefaultTrainer\n",
        "from detectron2.config import get_cfg\n",
        "import torch, os\n",
        "\n",
        "cfg = get_cfg()\n",
        "cfg.merge_from_file(\"./detectron2_repo/configs/COCO-Detection/retinanet_R_50_FPN_3x.yaml\")\n",
        "\n",
        "\n",
        "cfg.DATASETS.TRAIN = (\"plates\",)\n",
        "cfg.DATASETS.TEST = ()   \n",
        "cfg.DATALOADER.NUM_WORKERS = 2\n",
        "\n",
        "# initialize model from model zoo\n",
        "cfg.MODEL.WEIGHTS = \"detectron2://ImageNetPretrained/MSRA/R-50.pkl\"  \n",
        "#cfg.MODEL.WEIGHTS = 'output/model_final.pth' \n",
        "cfg.SOLVER.IMS_PER_BATCH = 2\n",
        "cfg.DATALOADER.NUM_WORKERS = 2\n",
        "cfg.MODEL.ROI_HEADS.BATCH_SIZE_PER_IMAGE = 128   \n",
        "cfg.SOLVER.BASE_LR = 0.00025\n",
        "\n",
        "cfg.SOLVER.MAX_ITER = 10000    \n",
        "cfg.SOLVER.CHECKPOINT_PERIOD = 500\n",
        "\n",
        "# we've only one class - plate\n",
        "cfg.MODEL.ROI_HEADS.NUM_CLASSES = 1  \n",
        "\n",
        "os.makedirs(cfg.OUTPUT_DIR, exist_ok=True)\n",
        "trainer = DefaultTrainer(cfg) \n",
        "trainer.resume_or_load(resume=False)\n",
        "trainer.train()"
      ],
      "execution_count": 0,
      "outputs": []
    },
    {
      "cell_type": "markdown",
      "metadata": {
        "id": "15_DCQ2VFZ50",
        "colab_type": "text"
      },
      "source": [
        "## Inference"
      ]
    },
    {
      "cell_type": "code",
      "metadata": {
        "id": "JSBu89s0Fdal",
        "colab_type": "code",
        "colab": {}
      },
      "source": [
        "import random as r\n",
        "import math\n",
        "cfg = get_cfg()\n",
        "\n",
        "cfg.merge_from_file(\"./detectron2_repo/configs/COCO-Detection/retinanet_R_50_FPN_3x.yaml\")\n",
        "\n",
        "# detector threshold\n",
        "\n",
        "cfg.MODEL.ROI_HEADS.SCORE_THRESH_TEST = 0.5  \n",
        "cfg.MODEL.WEIGHTS = 'output/model_final.pth'\n",
        "cfg.DATASETS.TEST = (\"plates\", )\n",
        "predictor = DefaultPredictor(cfg)\n",
        "\n",
        "# get images with glob function to filelist to iterate through. Use any directory for testing, with your prefered format of \n",
        "# images: .png, .jpg, .jpeg.\n",
        "\n",
        "filelist = glob.glob('*.jpg')\n",
        "\n",
        "for i in range(10):\n",
        "    img = cv2.imread(filelist[i])\n",
        "    \n",
        "    # prediction\n",
        "    outputs = predictor(img)\n",
        "    \n",
        "    ### uncomment the below script in case you want to see the detector visualisations\n",
        "    \n",
        "    ### v = Visualizer(im[:, :, ::-1], MetadataCatalog.get(cfg.DATASETS.TEST[0]), scale=1.2)\n",
        "    ### v = v.draw_instance_predictions(outputs[\"instances\"].to(\"cpu\"))\n",
        "    ### cv2_imshow(v.get_image()[:, :, ::-1])\n",
        "    \n",
        "    # getting prediction bboxes from model outputs\n",
        "    \n",
        "    boxes = outputs['instances'].pred_boxes.tensor.cpu().numpy()[0]\n",
        "    x2 = math.ceil(boxes[0])\n",
        "    x1 = math.ceil(boxes[1])\n",
        "    y2 = math.ceil(boxes[2])\n",
        "    y1 = math.ceil(boxes[3])\n",
        "    crop_img = img[x1:y1,x2:y2]\n",
        "    #crop_img = cv2.resize(crop_img, (500,250))\n",
        "    \n",
        "    # showing original image\n",
        "    cv2_imshow(img)\n",
        "    \n",
        "    # showing cropped number plate\n",
        "    cv2_imshow(crop_img)"
      ],
      "execution_count": 0,
      "outputs": []
    }
  ]
}